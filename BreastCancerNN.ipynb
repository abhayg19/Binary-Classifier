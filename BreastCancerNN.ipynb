{
  "nbformat": 4,
  "nbformat_minor": 0,
  "metadata": {
    "colab": {
      "name": "BreastCancerNN.ipynb",
      "provenance": [],
      "collapsed_sections": []
    },
    "kernelspec": {
      "name": "python3",
      "display_name": "Python 3"
    }
  },
  "cells": [
    {
      "cell_type": "markdown",
      "metadata": {
        "id": "HNaYP1QBn58z"
      },
      "source": [
        "This Project contains two models - first is of MP Neuron and Second is Perceptron model used for same dataset of breast cancer. These two models are binary classifiers which classifies a sample of person into 'Malignant' or 'Benign'."
      ]
    },
    {
      "cell_type": "code",
      "metadata": {
        "id": "cBzeCt55H2qB"
      },
      "source": [
        "import numpy as np\n",
        "import pandas as pd\n",
        "import matplotlib.pyplot as plt\n",
        "from sklearn.datasets import load_breast_cancer\n",
        "from sklearn.metrics import accuracy_score\n",
        "from sklearn.model_selection import train_test_split\n",
        "from sklearn.linear_model import Perceptron\n",
        "from random import randint\n",
        "\n",
        "%matplotlib inline"
      ],
      "execution_count": null,
      "outputs": []
    },
    {
      "cell_type": "code",
      "metadata": {
        "id": "tK21eff_PlUv"
      },
      "source": [
        "b_cancer = load_breast_cancer()"
      ],
      "execution_count": null,
      "outputs": []
    },
    {
      "cell_type": "code",
      "metadata": {
        "id": "UcpEqUXDVubh",
        "colab": {
          "base_uri": "https://localhost:8080/",
          "height": 108
        },
        "outputId": "66163d43-a37c-4e4f-8628-074eef925b1d"
      },
      "source": [
        "b_cancer.DESCR"
      ],
      "execution_count": null,
      "outputs": [
        {
          "output_type": "execute_result",
          "data": {
            "application/vnd.google.colaboratory.intrinsic+json": {
              "type": "string"
            },
            "text/plain": [
              "'.. _breast_cancer_dataset:\\n\\nBreast cancer wisconsin (diagnostic) dataset\\n--------------------------------------------\\n\\n**Data Set Characteristics:**\\n\\n    :Number of Instances: 569\\n\\n    :Number of Attributes: 30 numeric, predictive attributes and the class\\n\\n    :Attribute Information:\\n        - radius (mean of distances from center to points on the perimeter)\\n        - texture (standard deviation of gray-scale values)\\n        - perimeter\\n        - area\\n        - smoothness (local variation in radius lengths)\\n        - compactness (perimeter^2 / area - 1.0)\\n        - concavity (severity of concave portions of the contour)\\n        - concave points (number of concave portions of the contour)\\n        - symmetry \\n        - fractal dimension (\"coastline approximation\" - 1)\\n\\n        The mean, standard error, and \"worst\" or largest (mean of the three\\n        largest values) of these features were computed for each image,\\n        resulting in 30 features.  For instance, field 3 is Mean Radius, field\\n        13 is Radius SE, field 23 is Worst Radius.\\n\\n        - class:\\n                - WDBC-Malignant\\n                - WDBC-Benign\\n\\n    :Summary Statistics:\\n\\n    ===================================== ====== ======\\n                                           Min    Max\\n    ===================================== ====== ======\\n    radius (mean):                        6.981  28.11\\n    texture (mean):                       9.71   39.28\\n    perimeter (mean):                     43.79  188.5\\n    area (mean):                          143.5  2501.0\\n    smoothness (mean):                    0.053  0.163\\n    compactness (mean):                   0.019  0.345\\n    concavity (mean):                     0.0    0.427\\n    concave points (mean):                0.0    0.201\\n    symmetry (mean):                      0.106  0.304\\n    fractal dimension (mean):             0.05   0.097\\n    radius (standard error):              0.112  2.873\\n    texture (standard error):             0.36   4.885\\n    perimeter (standard error):           0.757  21.98\\n    area (standard error):                6.802  542.2\\n    smoothness (standard error):          0.002  0.031\\n    compactness (standard error):         0.002  0.135\\n    concavity (standard error):           0.0    0.396\\n    concave points (standard error):      0.0    0.053\\n    symmetry (standard error):            0.008  0.079\\n    fractal dimension (standard error):   0.001  0.03\\n    radius (worst):                       7.93   36.04\\n    texture (worst):                      12.02  49.54\\n    perimeter (worst):                    50.41  251.2\\n    area (worst):                         185.2  4254.0\\n    smoothness (worst):                   0.071  0.223\\n    compactness (worst):                  0.027  1.058\\n    concavity (worst):                    0.0    1.252\\n    concave points (worst):               0.0    0.291\\n    symmetry (worst):                     0.156  0.664\\n    fractal dimension (worst):            0.055  0.208\\n    ===================================== ====== ======\\n\\n    :Missing Attribute Values: None\\n\\n    :Class Distribution: 212 - Malignant, 357 - Benign\\n\\n    :Creator:  Dr. William H. Wolberg, W. Nick Street, Olvi L. Mangasarian\\n\\n    :Donor: Nick Street\\n\\n    :Date: November, 1995\\n\\nThis is a copy of UCI ML Breast Cancer Wisconsin (Diagnostic) datasets.\\nhttps://goo.gl/U2Uwz2\\n\\nFeatures are computed from a digitized image of a fine needle\\naspirate (FNA) of a breast mass.  They describe\\ncharacteristics of the cell nuclei present in the image.\\n\\nSeparating plane described above was obtained using\\nMultisurface Method-Tree (MSM-T) [K. P. Bennett, \"Decision Tree\\nConstruction Via Linear Programming.\" Proceedings of the 4th\\nMidwest Artificial Intelligence and Cognitive Science Society,\\npp. 97-101, 1992], a classification method which uses linear\\nprogramming to construct a decision tree.  Relevant features\\nwere selected using an exhaustive search in the space of 1-4\\nfeatures and 1-3 separating planes.\\n\\nThe actual linear program used to obtain the separating plane\\nin the 3-dimensional space is that described in:\\n[K. P. Bennett and O. L. Mangasarian: \"Robust Linear\\nProgramming Discrimination of Two Linearly Inseparable Sets\",\\nOptimization Methods and Software 1, 1992, 23-34].\\n\\nThis database is also available through the UW CS ftp server:\\n\\nftp ftp.cs.wisc.edu\\ncd math-prog/cpo-dataset/machine-learn/WDBC/\\n\\n.. topic:: References\\n\\n   - W.N. Street, W.H. Wolberg and O.L. Mangasarian. Nuclear feature extraction \\n     for breast tumor diagnosis. IS&T/SPIE 1993 International Symposium on \\n     Electronic Imaging: Science and Technology, volume 1905, pages 861-870,\\n     San Jose, CA, 1993.\\n   - O.L. Mangasarian, W.N. Street and W.H. Wolberg. Breast cancer diagnosis and \\n     prognosis via linear programming. Operations Research, 43(4), pages 570-577, \\n     July-August 1995.\\n   - W.H. Wolberg, W.N. Street, and O.L. Mangasarian. Machine learning techniques\\n     to diagnose breast cancer from fine-needle aspirates. Cancer Letters 77 (1994) \\n     163-171.'"
            ]
          },
          "metadata": {
            "tags": []
          },
          "execution_count": 4
        }
      ]
    },
    {
      "cell_type": "code",
      "metadata": {
        "id": "N-Phq-J-V0zd",
        "colab": {
          "base_uri": "https://localhost:8080/"
        },
        "outputId": "c384e888-14f5-4100-a81b-5afa578c40d7"
      },
      "source": [
        "b_cancer.data"
      ],
      "execution_count": null,
      "outputs": [
        {
          "output_type": "execute_result",
          "data": {
            "text/plain": [
              "array([[1.799e+01, 1.038e+01, 1.228e+02, ..., 2.654e-01, 4.601e-01,\n",
              "        1.189e-01],\n",
              "       [2.057e+01, 1.777e+01, 1.329e+02, ..., 1.860e-01, 2.750e-01,\n",
              "        8.902e-02],\n",
              "       [1.969e+01, 2.125e+01, 1.300e+02, ..., 2.430e-01, 3.613e-01,\n",
              "        8.758e-02],\n",
              "       ...,\n",
              "       [1.660e+01, 2.808e+01, 1.083e+02, ..., 1.418e-01, 2.218e-01,\n",
              "        7.820e-02],\n",
              "       [2.060e+01, 2.933e+01, 1.401e+02, ..., 2.650e-01, 4.087e-01,\n",
              "        1.240e-01],\n",
              "       [7.760e+00, 2.454e+01, 4.792e+01, ..., 0.000e+00, 2.871e-01,\n",
              "        7.039e-02]])"
            ]
          },
          "metadata": {
            "tags": []
          },
          "execution_count": 5
        }
      ]
    },
    {
      "cell_type": "code",
      "metadata": {
        "id": "ZM3KKiIRV5nr",
        "colab": {
          "base_uri": "https://localhost:8080/"
        },
        "outputId": "30e3a560-ce08-4c0b-fc6c-0c18990ec7bc"
      },
      "source": [
        "b_cancer.target_names"
      ],
      "execution_count": null,
      "outputs": [
        {
          "output_type": "execute_result",
          "data": {
            "text/plain": [
              "array(['malignant', 'benign'], dtype='<U9')"
            ]
          },
          "metadata": {
            "tags": []
          },
          "execution_count": 6
        }
      ]
    },
    {
      "cell_type": "code",
      "metadata": {
        "id": "js91uJCWfdxh",
        "colab": {
          "base_uri": "https://localhost:8080/"
        },
        "outputId": "2ff83af5-75cd-43c1-9210-a4a19dbfcbbd"
      },
      "source": [
        "b_cancer.feature_names"
      ],
      "execution_count": null,
      "outputs": [
        {
          "output_type": "execute_result",
          "data": {
            "text/plain": [
              "array(['mean radius', 'mean texture', 'mean perimeter', 'mean area',\n",
              "       'mean smoothness', 'mean compactness', 'mean concavity',\n",
              "       'mean concave points', 'mean symmetry', 'mean fractal dimension',\n",
              "       'radius error', 'texture error', 'perimeter error', 'area error',\n",
              "       'smoothness error', 'compactness error', 'concavity error',\n",
              "       'concave points error', 'symmetry error',\n",
              "       'fractal dimension error', 'worst radius', 'worst texture',\n",
              "       'worst perimeter', 'worst area', 'worst smoothness',\n",
              "       'worst compactness', 'worst concavity', 'worst concave points',\n",
              "       'worst symmetry', 'worst fractal dimension'], dtype='<U23')"
            ]
          },
          "metadata": {
            "tags": []
          },
          "execution_count": 7
        }
      ]
    },
    {
      "cell_type": "code",
      "metadata": {
        "id": "VmNOfcO9V_fT",
        "colab": {
          "base_uri": "https://localhost:8080/"
        },
        "outputId": "0be4bc46-df81-4030-d6fc-0a0762293913"
      },
      "source": [
        "b_cancer.target"
      ],
      "execution_count": null,
      "outputs": [
        {
          "output_type": "execute_result",
          "data": {
            "text/plain": [
              "array([0, 0, 0, 0, 0, 0, 0, 0, 0, 0, 0, 0, 0, 0, 0, 0, 0, 0, 0, 1, 1, 1,\n",
              "       0, 0, 0, 0, 0, 0, 0, 0, 0, 0, 0, 0, 0, 0, 0, 1, 0, 0, 0, 0, 0, 0,\n",
              "       0, 0, 1, 0, 1, 1, 1, 1, 1, 0, 0, 1, 0, 0, 1, 1, 1, 1, 0, 1, 0, 0,\n",
              "       1, 1, 1, 1, 0, 1, 0, 0, 1, 0, 1, 0, 0, 1, 1, 1, 0, 0, 1, 0, 0, 0,\n",
              "       1, 1, 1, 0, 1, 1, 0, 0, 1, 1, 1, 0, 0, 1, 1, 1, 1, 0, 1, 1, 0, 1,\n",
              "       1, 1, 1, 1, 1, 1, 1, 0, 0, 0, 1, 0, 0, 1, 1, 1, 0, 0, 1, 0, 1, 0,\n",
              "       0, 1, 0, 0, 1, 1, 0, 1, 1, 0, 1, 1, 1, 1, 0, 1, 1, 1, 1, 1, 1, 1,\n",
              "       1, 1, 0, 1, 1, 1, 1, 0, 0, 1, 0, 1, 1, 0, 0, 1, 1, 0, 0, 1, 1, 1,\n",
              "       1, 0, 1, 1, 0, 0, 0, 1, 0, 1, 0, 1, 1, 1, 0, 1, 1, 0, 0, 1, 0, 0,\n",
              "       0, 0, 1, 0, 0, 0, 1, 0, 1, 0, 1, 1, 0, 1, 0, 0, 0, 0, 1, 1, 0, 0,\n",
              "       1, 1, 1, 0, 1, 1, 1, 1, 1, 0, 0, 1, 1, 0, 1, 1, 0, 0, 1, 0, 1, 1,\n",
              "       1, 1, 0, 1, 1, 1, 1, 1, 0, 1, 0, 0, 0, 0, 0, 0, 0, 0, 0, 0, 0, 0,\n",
              "       0, 0, 1, 1, 1, 1, 1, 1, 0, 1, 0, 1, 1, 0, 1, 1, 0, 1, 0, 0, 1, 1,\n",
              "       1, 1, 1, 1, 1, 1, 1, 1, 1, 1, 1, 0, 1, 1, 0, 1, 0, 1, 1, 1, 1, 1,\n",
              "       1, 1, 1, 1, 1, 1, 1, 1, 1, 0, 1, 1, 1, 0, 1, 0, 1, 1, 1, 1, 0, 0,\n",
              "       0, 1, 1, 1, 1, 0, 1, 0, 1, 0, 1, 1, 1, 0, 1, 1, 1, 1, 1, 1, 1, 0,\n",
              "       0, 0, 1, 1, 1, 1, 1, 1, 1, 1, 1, 1, 1, 0, 0, 1, 0, 0, 0, 1, 0, 0,\n",
              "       1, 1, 1, 1, 1, 0, 1, 1, 1, 1, 1, 0, 1, 1, 1, 0, 1, 1, 0, 0, 1, 1,\n",
              "       1, 1, 1, 1, 0, 1, 1, 1, 1, 1, 1, 1, 0, 1, 1, 1, 1, 1, 0, 1, 1, 0,\n",
              "       1, 1, 1, 1, 1, 1, 1, 1, 1, 1, 1, 1, 0, 1, 0, 0, 1, 0, 1, 1, 1, 1,\n",
              "       1, 0, 1, 1, 0, 1, 0, 1, 1, 0, 1, 0, 1, 1, 1, 1, 1, 1, 1, 1, 0, 0,\n",
              "       1, 1, 1, 1, 1, 1, 0, 1, 1, 1, 1, 1, 1, 1, 1, 1, 1, 0, 1, 1, 1, 1,\n",
              "       1, 1, 1, 0, 1, 0, 1, 1, 0, 1, 1, 1, 1, 1, 0, 0, 1, 0, 1, 0, 1, 1,\n",
              "       1, 1, 1, 0, 1, 1, 0, 1, 0, 1, 0, 0, 1, 1, 1, 0, 1, 1, 1, 1, 1, 1,\n",
              "       1, 1, 1, 1, 1, 0, 1, 0, 0, 1, 1, 1, 1, 1, 1, 1, 1, 1, 1, 1, 1, 1,\n",
              "       1, 1, 1, 1, 1, 1, 1, 1, 1, 1, 1, 1, 0, 0, 0, 0, 0, 0, 1])"
            ]
          },
          "metadata": {
            "tags": []
          },
          "execution_count": 8
        }
      ]
    },
    {
      "cell_type": "code",
      "metadata": {
        "id": "cZUttzFW5mVr",
        "colab": {
          "base_uri": "https://localhost:8080/"
        },
        "outputId": "35705084-ec64-40b1-cd24-6f70fb0ce215"
      },
      "source": [
        "X = b_cancer.data\n",
        "print(X.shape)"
      ],
      "execution_count": null,
      "outputs": [
        {
          "output_type": "stream",
          "text": [
            "(569, 30)\n"
          ],
          "name": "stdout"
        }
      ]
    },
    {
      "cell_type": "code",
      "metadata": {
        "id": "2IxvEHBQ7o18",
        "colab": {
          "base_uri": "https://localhost:8080/"
        },
        "outputId": "4e7809cf-8ebc-438d-c07c-50c48bf9153c"
      },
      "source": [
        "Y = b_cancer.target\n",
        "print(Y.shape)"
      ],
      "execution_count": null,
      "outputs": [
        {
          "output_type": "stream",
          "text": [
            "(569,)\n"
          ],
          "name": "stdout"
        }
      ]
    },
    {
      "cell_type": "code",
      "metadata": {
        "id": "XBqCvfclc9wg",
        "colab": {
          "base_uri": "https://localhost:8080/"
        },
        "outputId": "3924ee7e-e896-48d0-d1fc-3f86425da8a9"
      },
      "source": [
        "data = pd.DataFrame(b_cancer.data, columns=b_cancer.feature_names)\n",
        "data['class'] = b_cancer.target\n",
        "data['class'].value_counts()\n"
      ],
      "execution_count": null,
      "outputs": [
        {
          "output_type": "execute_result",
          "data": {
            "text/plain": [
              "1    357\n",
              "0    212\n",
              "Name: class, dtype: int64"
            ]
          },
          "metadata": {
            "tags": []
          },
          "execution_count": 11
        }
      ]
    },
    {
      "cell_type": "code",
      "metadata": {
        "id": "FThBxGxhhHsp",
        "colab": {
          "base_uri": "https://localhost:8080/"
        },
        "outputId": "ff20c1a4-9659-4b62-c6cd-9f31052b9462"
      },
      "source": [
        "X = data.drop('class', axis = 1)\n",
        "Y = data['class']\n",
        "print(X)\n",
        "print(Y)"
      ],
      "execution_count": null,
      "outputs": [
        {
          "output_type": "stream",
          "text": [
            "     mean radius  mean texture  ...  worst symmetry  worst fractal dimension\n",
            "0          17.99         10.38  ...          0.4601                  0.11890\n",
            "1          20.57         17.77  ...          0.2750                  0.08902\n",
            "2          19.69         21.25  ...          0.3613                  0.08758\n",
            "3          11.42         20.38  ...          0.6638                  0.17300\n",
            "4          20.29         14.34  ...          0.2364                  0.07678\n",
            "..           ...           ...  ...             ...                      ...\n",
            "564        21.56         22.39  ...          0.2060                  0.07115\n",
            "565        20.13         28.25  ...          0.2572                  0.06637\n",
            "566        16.60         28.08  ...          0.2218                  0.07820\n",
            "567        20.60         29.33  ...          0.4087                  0.12400\n",
            "568         7.76         24.54  ...          0.2871                  0.07039\n",
            "\n",
            "[569 rows x 30 columns]\n",
            "0      0\n",
            "1      0\n",
            "2      0\n",
            "3      0\n",
            "4      0\n",
            "      ..\n",
            "564    0\n",
            "565    0\n",
            "566    0\n",
            "567    0\n",
            "568    1\n",
            "Name: class, Length: 569, dtype: int64\n"
          ],
          "name": "stdout"
        }
      ]
    },
    {
      "cell_type": "code",
      "metadata": {
        "id": "qd0q2KD48SAa",
        "colab": {
          "base_uri": "https://localhost:8080/"
        },
        "outputId": "145d1e3a-1f6c-4f9b-8c2e-94bec4c88972"
      },
      "source": [
        "X_train, X_test, Y_train, Y_test = train_test_split(X, Y, test_size = 0.1, stratify = Y, random_state = 1)\n",
        "print(\"X_train Dimensions:\", X_train.shape)\n",
        "print(\"X_test Dimensions:\", X_test.shape)\n",
        "print(\"Y_train Dimensions:\", Y_train.shape)\n",
        "print(\"Y_test Dimensions:\", Y_test.shape)"
      ],
      "execution_count": null,
      "outputs": [
        {
          "output_type": "stream",
          "text": [
            "X_train Dimensions: (512, 30)\n",
            "X_test Dimensions: (57, 30)\n",
            "Y_train Dimensions: (512,)\n",
            "Y_test Dimensions: (57,)\n"
          ],
          "name": "stdout"
        }
      ]
    },
    {
      "cell_type": "code",
      "metadata": {
        "id": "zgljQBbCkZ7l",
        "colab": {
          "base_uri": "https://localhost:8080/",
          "height": 265
        },
        "outputId": "8bd72ccf-8f2d-4ed0-a43c-1779f3554e61"
      },
      "source": [
        "plt.plot(data, '*')\n",
        "plt.show()"
      ],
      "execution_count": null,
      "outputs": [
        {
          "output_type": "display_data",
          "data": {
            "image/png": "[encoded data removed]",
            "text/plain": [
              "<Figure size 432x288 with 1 Axes>"
            ]
          },
          "metadata": {
            "tags": [],
            "needs_background": "light"
          }
        }
      ]
    },
    {
      "cell_type": "code",
      "metadata": {
        "id": "viEW-go750HK",
        "colab": {
          "base_uri": "https://localhost:8080/",
          "height": 374
        },
        "outputId": "dec14f78-270d-4e8b-853d-cd490a22dbf4"
      },
      "source": [
        "plt.plot(data.T, '*')\n",
        "plt.xticks(rotation='vertical', color = 'w')\n",
        "plt.show()"
      ],
      "execution_count": null,
      "outputs": [
        {
          "output_type": "display_data",
          "data": {
            "image/png": "[encoded data removed]",
            "text/plain": [
              "<Figure size 432x288 with 1 Axes>"
            ]
          },
          "metadata": {
            "tags": []
          }
        }
      ]
    },
    {
      "cell_type": "code",
      "metadata": {
        "id": "Hw6bgzVK3IZV",
        "colab": {
          "base_uri": "https://localhost:8080/",
          "height": 266
        },
        "outputId": "7aeb5ee9-31ef-40ce-dc3b-5b3adfb90feb"
      },
      "source": [
        "plt.plot(X_test, '*')\n",
        "plt.show()"
      ],
      "execution_count": null,
      "outputs": [
        {
          "output_type": "display_data",
          "data": {
            "image/png": "[encoded data removed]",
            "text/plain": [
              "<Figure size 432x288 with 1 Axes>"
            ]
          },
          "metadata": {
            "tags": [],
            "needs_background": "light"
          }
        }
      ]
    },
    {
      "cell_type": "code",
      "metadata": {
        "id": "e8RD-JWtkugM",
        "colab": {
          "base_uri": "https://localhost:8080/",
          "height": 374
        },
        "outputId": "5bc51c15-8487-4ac0-d1c0-def0c2108514"
      },
      "source": [
        "plt.plot(X_test.T, '*')\n",
        "plt.xticks(rotation='vertical', color = 'w')\n",
        "plt.show()"
      ],
      "execution_count": null,
      "outputs": [
        {
          "output_type": "display_data",
          "data": {
            "image/png": "[encoded data removed]",
            "text/plain": [
              "<Figure size 432x288 with 1 Axes>"
            ]
          },
          "metadata": {
            "tags": []
          }
        }
      ]
    },
    {
      "cell_type": "code",
      "metadata": {
        "id": "kOzJN4WVk096",
        "colab": {
          "base_uri": "https://localhost:8080/",
          "height": 265
        },
        "outputId": "c3396458-be34-4aec-c091-f70104f1651c"
      },
      "source": [
        "testing_bin = X_test['mean area'].map(lambda x: 0 if x < 1000 else 1)\n",
        "plt.plot(testing_bin, '*')\n",
        "plt.show()"
      ],
      "execution_count": null,
      "outputs": [
        {
          "output_type": "display_data",
          "data": {
            "image/png": "[encoded data removed]",
            "text/plain": [
              "<Figure size 432x288 with 1 Axes>"
            ]
          },
          "metadata": {
            "tags": [],
            "needs_background": "light"
          }
        }
      ]
    },
    {
      "cell_type": "code",
      "metadata": {
        "id": "_SesRTTh6zKy",
        "colab": {
          "base_uri": "https://localhost:8080/"
        },
        "outputId": "820d520c-edab-4e96-fc7c-ad7f42aa2bca"
      },
      "source": [
        "X_bin_train = X_train.apply(pd.cut, bins = 2, labels = [1, 0]).values\n",
        "X_bin_test = X_test.apply(pd.cut, bins = 2, labels = [1, 0]).values\n",
        "print(\"Binarized X_train:\\n\", X_bin_train)\n",
        "print(\"Binarized X_test:\\n\", X_bin_test)"
      ],
      "execution_count": null,
      "outputs": [
        {
          "output_type": "stream",
          "text": [
            "Binarized X_train:\n",
            " [[1 1 1 ... 0 1 1]\n",
            " [1 1 1 ... 1 1 1]\n",
            " [1 1 1 ... 0 1 0]\n",
            " ...\n",
            " [1 1 1 ... 1 1 1]\n",
            " [1 1 1 ... 1 1 1]\n",
            " [0 1 0 ... 0 1 1]]\n",
            "Binarized X_test:\n",
            " [[1 1 1 ... 1 1 0]\n",
            " [0 0 0 ... 0 0 0]\n",
            " [1 1 1 ... 1 1 1]\n",
            " ...\n",
            " [1 1 1 ... 1 0 1]\n",
            " [0 0 0 ... 0 0 0]\n",
            " [1 1 1 ... 1 1 1]]\n"
          ],
          "name": "stdout"
        }
      ]
    },
    {
      "cell_type": "markdown",
      "metadata": {
        "id": "W8xYxAIoYG4l"
      },
      "source": [
        "# MP Neuron Model"
      ]
    },
    {
      "cell_type": "markdown",
      "metadata": {
        "id": "EKkz7Z5VO9p-"
      },
      "source": [
        "For finding Optimized theta in Training Set"
      ]
    },
    {
      "cell_type": "code",
      "metadata": {
        "id": "0_eadnbHO8po",
        "colab": {
          "base_uri": "https://localhost:8080/",
          "height": 339
        },
        "outputId": "2c8e6417-ee63-4d85-ac86-6bdd3e1055c4"
      },
      "source": [
        "Accuracy = []\n",
        "Theta_Accs = {}\n",
        "for theta in range(X.shape[1] + 1):\n",
        "    Y_pred_train = []\n",
        "    for x, y in zip(X_bin_train, Y_train):\n",
        "        Y_pred = (np.sum(x) >= theta)\n",
        "        Y_pred_train.append(Y_pred)\n",
        "\n",
        "    accuracy = accuracy_score(Y_train, Y_pred_train)\n",
        "    Theta_Accs[theta] = accuracy\n",
        "    Accuracy.append(accuracy)    \n",
        "    \n",
        "print(Theta_Accs)\n",
        "Optimized_theta = max(Theta_Accs, key = Theta_Accs.get)\n",
        "print(\"Optimized value of Theta in Training Set:\", Optimized_theta)\n",
        "print(\"With Accuracy of: \", 100*Theta_Accs.get(Optimized_theta))\n",
        "\n",
        "plt.plot(Accuracy)\n",
        "plt.show()"
      ],
      "execution_count": null,
      "outputs": [
        {
          "output_type": "stream",
          "text": [
            "{0: 0.626953125, 1: 0.626953125, 2: 0.626953125, 3: 0.626953125, 4: 0.626953125, 5: 0.626953125, 6: 0.626953125, 7: 0.626953125, 8: 0.626953125, 9: 0.626953125, 10: 0.626953125, 11: 0.626953125, 12: 0.626953125, 13: 0.626953125, 14: 0.630859375, 15: 0.6328125, 16: 0.642578125, 17: 0.6484375, 18: 0.65625, 19: 0.6640625, 20: 0.671875, 21: 0.6875, 22: 0.701171875, 23: 0.724609375, 24: 0.755859375, 25: 0.78515625, 26: 0.818359375, 27: 0.845703125, 28: 0.849609375, 29: 0.814453125, 30: 0.759765625}\n",
            "Optimized value of Theta in Training Set: 28\n",
            "With Accuracy of:  84.9609375\n"
          ],
          "name": "stdout"
        },
        {
          "output_type": "display_data",
          "data": {
            "image/png": "[encoded data removed]",
            "text/plain": [
              "<Figure size 432x288 with 1 Axes>"
            ]
          },
          "metadata": {
            "tags": [],
            "needs_background": "light"
          }
        }
      ]
    },
    {
      "cell_type": "markdown",
      "metadata": {
        "id": "R9WTJRpXeLEy"
      },
      "source": [
        "Performance of Optimized theta in Testing dataset"
      ]
    },
    {
      "cell_type": "code",
      "metadata": {
        "id": "DDcLL2qVdH3X",
        "colab": {
          "base_uri": "https://localhost:8080/"
        },
        "outputId": "ea472510-54f5-4068-9a1c-851304fff14a"
      },
      "source": [
        "Y_pred_test = []\n",
        "theta = 28\n",
        "for x, y in zip(X_bin_test, Y_test):\n",
        "    Y_pred = (np.sum(x) >= theta)\n",
        "    Y_pred_test.append(Y_pred)\n",
        "    \n",
        "accuracy = accuracy_score(Y_test, Y_pred_test)\n",
        "print(\"Accuracy: \", 100*accuracy)"
      ],
      "execution_count": null,
      "outputs": [
        {
          "output_type": "stream",
          "text": [
            "Accuracy:  78.94736842105263\n"
          ],
          "name": "stdout"
        }
      ]
    },
    {
      "cell_type": "markdown",
      "metadata": {
        "id": "uRSz-ONqxMyq"
      },
      "source": [
        "# Perceptron Model"
      ]
    },
    {
      "cell_type": "code",
      "metadata": {
        "id": "jzXIidQzxLFL"
      },
      "source": [
        "class MLP:\n",
        "    def __init__(self):\n",
        "        self.w = None\n",
        "        self.b = None\n",
        " \n",
        "    def model(self, x):\n",
        "        \n",
        "        if np.dot(self.w, x) >= self.b:\n",
        "            return 1\n",
        "        return 0    \n",
        " \n",
        "    def predict(self, X):\n",
        "       # X = np.array(X)\n",
        "        Y = []\n",
        "        for x in X:\n",
        "            result = self.model(x)\n",
        "            Y.append(result)\n",
        " \n",
        "        return np.array(Y)\n",
        " \n",
        "    def fit(self, X, Y, epochs, eta):\n",
        "       # X = np.array(X) \n",
        "        self.w = np.ones(X.shape[1])\n",
        "        self.b = 0\n",
        "        accs = []\n",
        "        max_accuracy = 0\n",
        "        W = []\n",
        "        for i in range(epochs):\n",
        "            for x, y in zip(X, Y):\n",
        "                #x = int(x)\n",
        "                y_pred = self.model(x)\n",
        "                if y == 1 and y_pred == 0:\n",
        "            \n",
        "                    self.w = self.w + x*eta\n",
        "                    self.b = self.b - 1*eta\n",
        " \n",
        "                if y == 0 and y_pred == 1:\n",
        "                \n",
        "                    self.w = self.w - x*eta\n",
        "                    self.b = self.b + 1*eta\n",
        " \n",
        "            W.append(self.w)\n",
        "            accs.append(accuracy_score(Y, self.predict(X)))\n",
        "            if accs[i] > max_accuracy:\n",
        "                max_accuracy = accs[i]\n",
        "                saved_w = self.w\n",
        "                saved_b = self.b\n",
        "            self.w = saved_w\n",
        "            self.b = saved_b\n",
        " \n",
        "        print(accs)\n",
        "        print(\"Maximum Accuracy of Model:\",100*max_accuracy)\n",
        "            \n",
        "        return np.array(W)"
      ],
      "execution_count": null,
      "outputs": []
    },
    {
      "cell_type": "code",
      "metadata": {
        "id": "RMxTL3o9PD32",
        "colab": {
          "base_uri": "https://localhost:8080/"
        },
        "outputId": "52917b64-454a-4903-ea18-962dbf71aee2"
      },
      "source": [
        "perceptron = MLP()\n",
        "W_train = perceptron.fit(X_train.values, Y_train, 100, 1)\n",
        "Y_pred_train = perceptron.predict(X_train.values)\n",
        "print(\"\\nWeights for Training Set :\\n\", W_train)\n",
        "print(\"\\nAccuracy of Training model: \",100*accuracy_score(Y_train, Y_pred_train))"
      ],
      "execution_count": null,
      "outputs": [
        {
          "output_type": "stream",
          "text": [
            "[0.373046875, 0.91015625, 0.373046875, 0.373046875, 0.373046875, 0.373046875, 0.373046875, 0.373046875, 0.373046875, 0.373046875, 0.373046875, 0.373046875, 0.373046875, 0.373046875, 0.373046875, 0.373046875, 0.373046875, 0.373046875, 0.373046875, 0.373046875, 0.373046875, 0.373046875, 0.373046875, 0.373046875, 0.373046875, 0.373046875, 0.373046875, 0.373046875, 0.373046875, 0.373046875, 0.373046875, 0.373046875, 0.373046875, 0.373046875, 0.373046875, 0.373046875, 0.373046875, 0.373046875, 0.373046875, 0.373046875, 0.373046875, 0.373046875, 0.373046875, 0.373046875, 0.373046875, 0.373046875, 0.373046875, 0.373046875, 0.373046875, 0.373046875, 0.373046875, 0.373046875, 0.373046875, 0.373046875, 0.373046875, 0.373046875, 0.373046875, 0.373046875, 0.373046875, 0.373046875, 0.373046875, 0.373046875, 0.373046875, 0.373046875, 0.373046875, 0.373046875, 0.373046875, 0.373046875, 0.373046875, 0.373046875, 0.373046875, 0.373046875, 0.373046875, 0.373046875, 0.373046875, 0.373046875, 0.373046875, 0.373046875, 0.373046875, 0.373046875, 0.373046875, 0.373046875, 0.373046875, 0.373046875, 0.373046875, 0.373046875, 0.373046875, 0.373046875, 0.373046875, 0.373046875, 0.373046875, 0.373046875, 0.373046875, 0.373046875, 0.373046875, 0.373046875, 0.373046875, 0.373046875, 0.373046875, 0.373046875]\n",
            "Maximum Accuracy of Model: 91.015625\n",
            "\n",
            "Weights for Training Set :\n",
            " [[ 4.47870e+02  8.34890e+02  2.71577e+03 ... -7.86000e-02  1.40287e+01\n",
            "   4.93439e+00]\n",
            " [ 7.24670e+02  1.32721e+03  4.36202e+03 ... -1.60860e+00  2.12801e+01\n",
            "   7.03858e+00]\n",
            " [ 8.99463e+02  1.63852e+03  5.37866e+03 ... -3.39190e+00  2.51837e+01\n",
            "   8.16329e+00]\n",
            " ...\n",
            " [ 8.99463e+02  1.63852e+03  5.37866e+03 ... -3.39190e+00  2.51837e+01\n",
            "   8.16329e+00]\n",
            " [ 8.99463e+02  1.63852e+03  5.37866e+03 ... -3.39190e+00  2.51837e+01\n",
            "   8.16329e+00]\n",
            " [ 8.99463e+02  1.63852e+03  5.37866e+03 ... -3.39190e+00  2.51837e+01\n",
            "   8.16329e+00]]\n",
            "\n",
            "Accuracy of Training model:  91.015625\n"
          ],
          "name": "stdout"
        }
      ]
    },
    {
      "cell_type": "code",
      "metadata": {
        "id": "9Mc0F7CyBWpF",
        "colab": {
          "base_uri": "https://localhost:8080/"
        },
        "outputId": "604a4f2b-1022-449f-a643-e247f60b74b9"
      },
      "source": [
        "W_test = perceptron.fit(X_bin_test, Y_test, 100, 0.03)\n",
        "Y_pred_test = perceptron.predict(X_bin_test)\n",
        "print(\"\\nWeights for Testing Set :\\n\", W_test)\n",
        "print(\"\\nAccuracy of Testing model: \",100*accuracy_score(Y_test, Y_pred_test))"
      ],
      "execution_count": null,
      "outputs": [
        {
          "output_type": "stream",
          "text": [
            "[0.631578947368421, 0.7543859649122807, 0.9122807017543859, 0.9649122807017544, 0.9649122807017544, 0.9649122807017544, 0.9649122807017544, 0.9649122807017544, 0.9649122807017544, 0.9649122807017544, 0.9649122807017544, 0.9649122807017544, 0.9649122807017544, 0.9649122807017544, 0.9649122807017544, 0.9649122807017544, 0.9649122807017544, 0.9649122807017544, 0.9649122807017544, 0.9649122807017544, 0.9649122807017544, 0.9649122807017544, 0.9649122807017544, 0.9649122807017544, 0.9649122807017544, 0.9649122807017544, 0.9649122807017544, 0.9649122807017544, 0.9649122807017544, 0.9649122807017544, 0.9649122807017544, 0.9649122807017544, 0.9649122807017544, 0.9649122807017544, 0.9649122807017544, 0.9649122807017544, 0.9649122807017544, 0.9649122807017544, 0.9649122807017544, 0.9649122807017544, 0.9649122807017544, 0.9649122807017544, 0.9649122807017544, 0.9649122807017544, 0.9649122807017544, 0.9649122807017544, 0.9649122807017544, 0.9649122807017544, 0.9649122807017544, 0.9649122807017544, 0.9649122807017544, 0.9649122807017544, 0.9649122807017544, 0.9649122807017544, 0.9649122807017544, 0.9649122807017544, 0.9649122807017544, 0.9649122807017544, 0.9649122807017544, 0.9649122807017544, 0.9649122807017544, 0.9649122807017544, 0.9649122807017544, 0.9649122807017544, 0.9649122807017544, 0.9649122807017544, 0.9649122807017544, 0.9649122807017544, 0.9649122807017544, 0.9649122807017544, 0.9649122807017544, 0.9649122807017544, 0.9649122807017544, 0.9649122807017544, 0.9649122807017544, 0.9649122807017544, 0.9649122807017544, 0.9649122807017544, 0.9649122807017544, 0.9649122807017544, 0.9649122807017544, 0.9649122807017544, 0.9649122807017544, 0.9649122807017544, 0.9649122807017544, 0.9649122807017544, 0.9649122807017544, 0.9649122807017544, 0.9649122807017544, 0.9649122807017544, 0.9649122807017544, 0.9649122807017544, 0.9649122807017544, 0.9649122807017544, 0.9649122807017544, 0.9649122807017544, 0.9649122807017544, 0.9649122807017544, 0.9649122807017544, 0.9649122807017544]\n",
            "Maximum Accuracy of Model: 96.49122807017544\n",
            "\n",
            "Weights for Testing Set :\n",
            " [[0.8799999999999999 0.8799999999999999 0.8799999999999999 ...\n",
            "  0.9099999999999999 0.8499999999999999 0.6099999999999997]\n",
            " [0.7599999999999998 0.7599999999999998 0.7599999999999998 ...\n",
            "  0.8199999999999998 0.6999999999999997 0.24999999999999936]\n",
            " [0.6699999999999997 0.7299999999999998 0.6699999999999997 ...\n",
            "  0.7299999999999998 0.6099999999999997 0.15999999999999936]\n",
            " ...\n",
            " [0.6399999999999997 0.7299999999999998 0.6399999999999997 ...\n",
            "  0.6699999999999997 0.48999999999999955 0.09999999999999937]\n",
            " [0.6399999999999997 0.7299999999999998 0.6399999999999997 ...\n",
            "  0.6699999999999997 0.48999999999999955 0.09999999999999937]\n",
            " [0.6399999999999997 0.7299999999999998 0.6399999999999997 ...\n",
            "  0.6699999999999997 0.48999999999999955 0.09999999999999937]]\n",
            "\n",
            "Accuracy of Testing model:  96.49122807017544\n"
          ],
          "name": "stdout"
        }
      ]
    },
    {
      "cell_type": "markdown",
      "metadata": {
        "id": "E4XzFqKAstgs"
      },
      "source": [
        "We have seen that on same dataset, MP Neuron generates accuracy of near about 79% and Perceptron generates the accuracy of 96.5% which is a great difference and shows learning yeilds great results. :)"
      ]
    },
    {
      "cell_type": "markdown",
      "metadata": {
        "id": "-QF1ubeSRBgV"
      },
      "source": [
        "Ideal Perceptron Model"
      ]
    },
    {
      "cell_type": "code",
      "metadata": {
        "id": "z-gJXDtgcDdG",
        "colab": {
          "base_uri": "https://localhost:8080/"
        },
        "outputId": "91a6955f-f280-49a5-8f80-5d2a957d182a"
      },
      "source": [
        "per_clf = Perceptron()\n",
        "per_clf.fit(X_train, Y_train)\n",
        "Y_pred_test = per_clf.predict(X_test)\n",
        "print(Y_pred_test)\n",
        "print(\"\\nAccuracy:\",100*accuracy_score(Y_test, Y_pred_test))"
      ],
      "execution_count": null,
      "outputs": [
        {
          "output_type": "stream",
          "text": [
            "[1 0 1 1 0 1 0 0 0 1 0 1 1 0 1 1 1 0 1 1 1 0 1 1 0 1 1 0 0 1 1 0 0 1 1 1 0\n",
            " 0 1 1 1 0 1 1 0 1 1 1 1 1 1 1 0 0 1 0 1]\n",
            "\n",
            "Accuracy: 92.98245614035088\n"
          ],
          "name": "stdout"
        }
      ]
    }
  ]
}